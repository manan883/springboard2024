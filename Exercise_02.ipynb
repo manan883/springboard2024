{
 "cells": [
  {
   "cell_type": "markdown",
   "id": "231dc2dc-91ab-4d57-be75-ee70f3438f33",
   "metadata": {},
   "source": [
    "# Exercise 02: Complex Exponentials\n",
    "\n",
    "In this exercise, you will explore the connections between complex exponentials and sinusoids (sines and cosines).\n",
    "\n",
    "Let's start by installing the necessary packages:"
   ]
  },
  {
   "cell_type": "code",
   "execution_count": null,
   "id": "1f1707fa-10b2-4638-963b-57ad4c59d036",
   "metadata": {
    "scrolled": true
   },
   "outputs": [],
   "source": [
    "import sys\n",
    "!{sys.executable} -m pip install -U pip\n",
    "!{sys.executable} -m pip install -U numpy matplotlib ipywidgets ipympl"
   ]
  },
  {
   "cell_type": "markdown",
   "id": "c97d631d-b36e-4daa-bcfc-ded798301ab8",
   "metadata": {},
   "source": [
    "and importing the needed modules:"
   ]
  },
  {
   "cell_type": "code",
   "execution_count": null,
   "id": "c3ee98b8-cae8-4399-bb91-ba8539aabbee",
   "metadata": {},
   "outputs": [],
   "source": [
    "%matplotlib widget\n",
    "\n",
    "import ipywidgets as widgets\n",
    "import numpy as np\n",
    "import matplotlib.pyplot as plt"
   ]
  },
  {
   "cell_type": "markdown",
   "id": "19622081-9bc3-4324-ba80-222a9d80ef6e",
   "metadata": {},
   "source": [
    "The following code creates an interactive plot.  Feel free to try to understand what it's doing."
   ]
  },
  {
   "cell_type": "code",
   "execution_count": null,
   "id": "0cd1147c-6c8c-4a18-b25f-efea583891c6",
   "metadata": {},
   "outputs": [],
   "source": [
    "def create_complex_exponential_plot():\n",
    "    cb_pos = widgets.Checkbox(value=False, description='pos: ' + r'$e^{+j\\theta}$')\n",
    "    cb_neg = widgets.Checkbox(value=False, description='neg: ' + r'$e^{-j\\theta}$')\n",
    "    cb_sum = widgets.Checkbox(value=False, description='sum: ' + r'$e^{+j\\theta} + e^{-j\\theta}$')\n",
    "    cb_dif = widgets.Checkbox(value=False, description='dif: ' + r'$e^{+j\\theta} - e^{-j\\theta}$')\n",
    "\n",
    "    thetas = np.linspace(0.0,+20.0,1000)\n",
    "\n",
    "    fig = plt.figure()\n",
    "    fig.canvas.toolbar_visible = False\n",
    "    fig.canvas.resizable       = False\n",
    "    fig.canvas.header_visible  = False\n",
    "    fig.set_size_inches(8, 6)\n",
    "    \n",
    "    ax  = fig.add_subplot(1, 1, 1, projection='3d')\n",
    "    ax.set_xlim(0.0, +20.0)\n",
    "    ax.set_ylim(-2.0, +2.0)\n",
    "    ax.set_zlim(-2.0, +2.0)\n",
    "    ax.set_xlabel(r'$\\theta \\; [rad]$')\n",
    "    ax.set_ylabel(r'$real$')\n",
    "    ax.set_zlabel(r'$imag$')\n",
    "\n",
    "    pos_real_values = np.cos(thetas)\n",
    "    pos_imag_values = np.sin(thetas)\n",
    "\n",
    "    neg_real_values = np.cos(-thetas)\n",
    "    neg_imag_values = np.sin(-thetas)\n",
    "\n",
    "    axis_line_x   = ax.plot([ 0, 20], [0, 0], [0, 0], color='k', visible=True)\n",
    "    axis_line_y_1 = ax.plot([ 0,  0], [0, 2], [0, 0], color='k', visible=True)\n",
    "    axis_line_y_2 = ax.plot([20, 20], [0, 2], [0, 0], color='k', visible=True)\n",
    "    axis_line_z_1 = ax.plot([ 0,  0], [0, 0], [0, 2], color='k', visible=True)\n",
    "    axis_line_z_2 = ax.plot([20, 20], [0, 0], [0, 2], color='k', visible=True)\n",
    "    \n",
    "    pos_line, = ax.plot(thetas, pos_real_values, pos_imag_values, color='g', visible=False)\n",
    "    neg_line, = ax.plot(thetas, neg_real_values, neg_imag_values, color='r', visible=False)\n",
    "    sum_line, = ax.plot(thetas, pos_real_values + neg_real_values, pos_imag_values + neg_imag_values, color='m', visible=False)\n",
    "    dif_line, = ax.plot(thetas, pos_real_values - neg_real_values, pos_imag_values - neg_imag_values, color='c', visible=False)\n",
    "\n",
    "    def update_plot(dummy):\n",
    "        pos_line.set_visible(cb_pos.value)\n",
    "        neg_line.set_visible(cb_neg.value)\n",
    "        sum_line.set_visible(cb_sum.value)\n",
    "        dif_line.set_visible(cb_dif.value)\n",
    "        fig.canvas.draw_idle()\n",
    "\n",
    "    cb_pos.observe(update_plot, names='value')\n",
    "    cb_neg.observe(update_plot, names='value')\n",
    "    cb_sum.observe(update_plot, names='value')\n",
    "    cb_dif.observe(update_plot, names='value')\n",
    "\n",
    "    display(\n",
    "        widgets.HBox([\n",
    "            widgets.VBox([\n",
    "                cb_pos, cb_neg,\n",
    "            ]),\n",
    "            widgets.VBox([\n",
    "                cb_sum, cb_dif,\n",
    "            ]),\n",
    "        ])\n",
    "    )\n",
    "create_complex_exponential_plot()"
   ]
  },
  {
   "cell_type": "markdown",
   "id": "fa1ecaa6-7afe-4577-b5b1-4b7741e0c253",
   "metadata": {},
   "source": [
    "As before, you might want/need to occasionally close all plots to avoid leaking memory:"
   ]
  },
  {
   "cell_type": "code",
   "execution_count": null,
   "id": "3e23a447-495b-4ecd-b7de-cd9bf577e47a",
   "metadata": {},
   "outputs": [],
   "source": [
    "plt.close('all')"
   ]
  },
  {
   "cell_type": "markdown",
   "id": "c29ea6c8-9f4d-4e40-abdb-147cd0015fb7",
   "metadata": {},
   "source": [
    "By clicking-and-dagging,\n",
    "rotate the plot\n",
    "so that you're looking down the positive $\\theta$ axis toward the origin.\n",
    "This view is essentially a complex plane\n",
    "with a horizontal real axis\n",
    "and a vertical imaginary axis.\n",
    "\n",
    "Now rotate back to a 3D perspective.\n",
    "\n",
    "Instead of plotting individual points in the complex plane,\n",
    "we're going to be plotting curves\n",
    "that show how points move as $\\theta$ changes.\n",
    "\n",
    "If we slice the diagram at a given value of $\\theta$,\n",
    "we end up with a complex plane.\n",
    "\n",
    "**MAKE SURE YOU ARE CLEAR ON THIS CONCEPT BEFORE CONTINUING!**"
   ]
  },
  {
   "cell_type": "markdown",
   "id": "276bc1db-511f-4d32-9ec0-e5b9dc17a0ac",
   "metadata": {},
   "source": [
    "Enable the positive $e^{+j\\theta}$ complex exponential.  Study the plot and make sure you understand what you're seeing.\n",
    "\n",
    "Now enable the negative $e^{-j\\theta}$ complex exponential.  Study the plot and make sure you understand what you're seeing, toggling the positive and negative waveforms as desired.\n",
    "\n",
    "**How do the positive and negative complex exponentials differ?**"
   ]
  },
  {
   "cell_type": "markdown",
   "id": "bb60b289-b595-4663-ad17-6af530069982",
   "metadata": {},
   "source": [
    "YOUR ANSWER HERE"
   ]
  },
  {
   "cell_type": "markdown",
   "id": "7ec2af7f-75cc-46a3-b6ab-17e4d24e10dd",
   "metadata": {},
   "source": [
    "Enable the sum waveform (toggling the others as desired) and study the plot.\n",
    "\n",
    "**What do you notice about the sum?  What important property is being demonstrated here?**"
   ]
  },
  {
   "cell_type": "markdown",
   "id": "d3215e28-3510-4211-b272-36378bcc5c54",
   "metadata": {},
   "source": [
    "YOUR ANSWER HERE"
   ]
  },
  {
   "cell_type": "markdown",
   "id": "1b112eec-e71f-4cfc-91e3-33779a12a7bc",
   "metadata": {},
   "source": [
    "Disable the sum waveform, and enable the difference.  Again, study the plot.\n",
    "\n",
    "**What do you notice about the difference? What important property is being demonstrated here?**"
   ]
  },
  {
   "cell_type": "markdown",
   "id": "67359945-6c6a-453d-b022-175d3486f5af",
   "metadata": {},
   "source": [
    "YOUR ANSWER HERE"
   ]
  },
  {
   "cell_type": "markdown",
   "id": "9c3f3822-7499-477a-bbb4-f3eb2f88a784",
   "metadata": {},
   "source": [
    "Now enable only the sum and difference waveforms.\n",
    "\n",
    "View the plot from the side, and then from the top.\n",
    "\n",
    "**What do you notice?**"
   ]
  },
  {
   "cell_type": "markdown",
   "id": "8ef05958-8b06-4637-b16d-9dd2e113245d",
   "metadata": {},
   "source": [
    "YOUR ANSWER HERE"
   ]
  },
  {
   "cell_type": "code",
   "execution_count": null,
   "id": "7cf71659-7b8d-42a7-9bc2-23f15ddc7bfb",
   "metadata": {},
   "outputs": [],
   "source": []
  }
 ],
 "metadata": {
  "kernelspec": {
   "display_name": "Python 3 (ipykernel)",
   "language": "python",
   "name": "python3"
  },
  "language_info": {
   "codemirror_mode": {
    "name": "ipython",
    "version": 3
   },
   "file_extension": ".py",
   "mimetype": "text/x-python",
   "name": "python",
   "nbconvert_exporter": "python",
   "pygments_lexer": "ipython3",
   "version": "3.10.13"
  }
 },
 "nbformat": 4,
 "nbformat_minor": 5
}
