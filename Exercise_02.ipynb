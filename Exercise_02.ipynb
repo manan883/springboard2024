{
 "cells": [
  {
   "cell_type": "markdown",
   "id": "c17228b6-a827-4474-8ca3-3e1ea5304428",
   "metadata": {},
   "source": [
    "# Exercise 02: Classifier Comparison\n",
    "\n",
    "In this exercise, you'll run several classifiers on the same data and compare their effectiveness."
   ]
  },
  {
   "cell_type": "markdown",
   "id": "46747260-8bba-4077-9e9e-708bdc3fd8a8",
   "metadata": {},
   "source": [
    "## Installing Modules"
   ]
  },
  {
   "cell_type": "code",
   "execution_count": 1,
   "id": "4ae59579-843d-472e-80ec-055433f153d4",
   "metadata": {
    "scrolled": true
   },
   "outputs": [
    {
     "name": "stdout",
     "output_type": "stream",
     "text": [
      "Requirement already satisfied: pip in /home/manan/.pyenv/versions/3.10.13/envs/week3/lib/python3.10/site-packages (24.0)\n",
      "Requirement already satisfied: scikit-learn in /home/manan/.pyenv/versions/3.10.13/envs/week3/lib/python3.10/site-packages (1.4.0)\n",
      "Requirement already satisfied: matplotlib in /home/manan/.pyenv/versions/3.10.13/envs/week3/lib/python3.10/site-packages (3.8.2)\n",
      "Requirement already satisfied: seaborn in /home/manan/.pyenv/versions/3.10.13/envs/week3/lib/python3.10/site-packages (0.13.2)\n",
      "Requirement already satisfied: pandas in /home/manan/.pyenv/versions/3.10.13/envs/week3/lib/python3.10/site-packages (2.2.0)\n",
      "Requirement already satisfied: numpy<2.0,>=1.19.5 in /home/manan/.pyenv/versions/3.10.13/envs/week3/lib/python3.10/site-packages (from scikit-learn) (1.26.4)\n",
      "Requirement already satisfied: scipy>=1.6.0 in /home/manan/.pyenv/versions/3.10.13/envs/week3/lib/python3.10/site-packages (from scikit-learn) (1.12.0)\n",
      "Requirement already satisfied: joblib>=1.2.0 in /home/manan/.pyenv/versions/3.10.13/envs/week3/lib/python3.10/site-packages (from scikit-learn) (1.3.2)\n",
      "Requirement already satisfied: threadpoolctl>=2.0.0 in /home/manan/.pyenv/versions/3.10.13/envs/week3/lib/python3.10/site-packages (from scikit-learn) (3.2.0)\n",
      "Requirement already satisfied: contourpy>=1.0.1 in /home/manan/.pyenv/versions/3.10.13/envs/week3/lib/python3.10/site-packages (from matplotlib) (1.2.0)\n",
      "Requirement already satisfied: cycler>=0.10 in /home/manan/.pyenv/versions/3.10.13/envs/week3/lib/python3.10/site-packages (from matplotlib) (0.12.1)\n",
      "Requirement already satisfied: fonttools>=4.22.0 in /home/manan/.pyenv/versions/3.10.13/envs/week3/lib/python3.10/site-packages (from matplotlib) (4.48.1)\n",
      "Requirement already satisfied: kiwisolver>=1.3.1 in /home/manan/.pyenv/versions/3.10.13/envs/week3/lib/python3.10/site-packages (from matplotlib) (1.4.5)\n",
      "Requirement already satisfied: packaging>=20.0 in /home/manan/.pyenv/versions/3.10.13/envs/week3/lib/python3.10/site-packages (from matplotlib) (23.2)\n",
      "Requirement already satisfied: pillow>=8 in /home/manan/.pyenv/versions/3.10.13/envs/week3/lib/python3.10/site-packages (from matplotlib) (10.2.0)\n",
      "Requirement already satisfied: pyparsing>=2.3.1 in /home/manan/.pyenv/versions/3.10.13/envs/week3/lib/python3.10/site-packages (from matplotlib) (3.1.1)\n",
      "Requirement already satisfied: python-dateutil>=2.7 in /home/manan/.pyenv/versions/3.10.13/envs/week3/lib/python3.10/site-packages (from matplotlib) (2.8.2)\n",
      "Requirement already satisfied: pytz>=2020.1 in /home/manan/.pyenv/versions/3.10.13/envs/week3/lib/python3.10/site-packages (from pandas) (2024.1)\n",
      "Requirement already satisfied: tzdata>=2022.7 in /home/manan/.pyenv/versions/3.10.13/envs/week3/lib/python3.10/site-packages (from pandas) (2023.4)\n",
      "Requirement already satisfied: six>=1.5 in /home/manan/.pyenv/versions/3.10.13/envs/week3/lib/python3.10/site-packages (from python-dateutil>=2.7->matplotlib) (1.16.0)\n"
     ]
    }
   ],
   "source": [
    "import sys\n",
    "!{sys.executable} -m pip install -U pip\n",
    "!{sys.executable} -m pip install -U scikit-learn matplotlib seaborn pandas"
   ]
  },
  {
   "cell_type": "markdown",
   "id": "ce49add0-f3f2-4dd6-a141-11b407adcaad",
   "metadata": {},
   "source": [
    "## Setup"
   ]
  },
  {
   "cell_type": "markdown",
   "id": "0ce0a964-6f21-44f5-9f93-7d9ffc7eea91",
   "metadata": {},
   "source": [
    "Load the pre-canned wine dataset:"
   ]
  },
  {
   "cell_type": "code",
   "execution_count": 2,
   "id": "81a224ec-7447-4004-bba0-3b77cafd7024",
   "metadata": {},
   "outputs": [],
   "source": [
    "from sklearn import datasets\n",
    "dataset = datasets.load_wine()"
   ]
  },
  {
   "cell_type": "markdown",
   "id": "efb0ecfe-2fb7-4dd3-b2d2-d9c9b1295890",
   "metadata": {},
   "source": [
    "Split test data into training/testing sets:"
   ]
  },
  {
   "cell_type": "code",
   "execution_count": 47,
   "id": "cdcd4389-942a-487d-82b7-b685e7f6d52d",
   "metadata": {},
   "outputs": [],
   "source": [
    "from sklearn.model_selection import train_test_split\n",
    "\n",
    "X_train, X_test, y_train, y_test = train_test_split(\n",
    "    dataset['data'], dataset['target'], test_size=0.4, random_state=20\n",
    ")"
   ]
  },
  {
   "cell_type": "markdown",
   "id": "e218d681-4867-4612-9053-588d5b0eeb36",
   "metadata": {},
   "source": [
    "## K Nearest Neighbors\n",
    "\n",
    "Spend a little time learning about K Nearest Neighbor (KNN) classifiers.\n",
    "\n",
    "Once you have a handle on how they work, run the code below and inspect the results."
   ]
  },
  {
   "cell_type": "code",
   "execution_count": 48,
   "id": "a4a2c272-4592-474f-a1ee-e5d9ae35d9eb",
   "metadata": {},
   "outputs": [
    {
     "name": "stdout",
     "output_type": "stream",
     "text": [
      "Classification report for classifier KNeighborsClassifier(n_neighbors=3):\n",
      "              precision    recall  f1-score   support\n",
      "\n",
      "           0       0.80      0.95      0.87        21\n",
      "           1       0.81      0.62      0.70        34\n",
      "           2       0.38      0.47      0.42        17\n",
      "\n",
      "    accuracy                           0.68        72\n",
      "   macro avg       0.66      0.68      0.66        72\n",
      "weighted avg       0.70      0.68      0.68        72\n",
      "\n",
      "\n",
      "Confusion matrix:\n",
      "[[20  0  1]\n",
      " [ 1 21 12]\n",
      " [ 4  5  8]]\n"
     ]
    },
    {
     "data": {
      "image/png": "[encoded data removed]",
      "text/plain": [
       "<Figure size 640x480 with 2 Axes>"
      ]
     },
     "metadata": {},
     "output_type": "display_data"
    }
   ],
   "source": [
    "import matplotlib.pyplot as plt\n",
    "\n",
    "from sklearn.neighbors import KNeighborsClassifier\n",
    "from sklearn import metrics\n",
    "\n",
    "clf = KNeighborsClassifier(3)\n",
    "clf.fit(X_train, y_train)\n",
    "predicted = clf.predict(X_test)\n",
    "\n",
    "print(\n",
    "    f\"Classification report for classifier {clf}:\\n\"\n",
    "    f\"{metrics.classification_report(y_test, predicted)}\\n\"\n",
    ")\n",
    "\n",
    "disp = metrics.ConfusionMatrixDisplay.from_predictions(y_test, predicted)\n",
    "print(f\"Confusion matrix:\\n{disp.confusion_matrix}\")\n",
    "disp.figure_.suptitle(\"K Nearest Neighbors Confusion Matrix\")\n",
    "plt.show()"
   ]
  },
  {
   "cell_type": "markdown",
   "id": "9d617c62-ff29-425a-9463-f60ddba48266",
   "metadata": {},
   "source": [
    "## Support Vector Machines\n",
    "\n",
    "Spend a little time learning about support vector machine (SVM) classifiers.\n",
    "\n",
    "I've copied the KNN code from above to get you started...modify it to run a support vector machine classifier, and inspect the results."
   ]
  },
  {
   "cell_type": "code",
   "execution_count": 49,
   "id": "635d0271-acfd-4dd2-9973-627bceeed898",
   "metadata": {},
   "outputs": [
    {
     "name": "stdout",
     "output_type": "stream",
     "text": [
      "Classification report for classifier SVC():\n",
      "              precision    recall  f1-score   support\n",
      "\n",
      "           0       1.00      0.90      0.95        21\n",
      "           1       0.77      0.68      0.72        34\n",
      "           2       0.43      0.59      0.50        17\n",
      "\n",
      "    accuracy                           0.72        72\n",
      "   macro avg       0.73      0.72      0.72        72\n",
      "weighted avg       0.76      0.72      0.73        72\n",
      "\n",
      "\n",
      "Confusion matrix:\n",
      "[[19  0  2]\n",
      " [ 0 23 11]\n",
      " [ 0  7 10]]\n"
     ]
    },
    {
     "data": {
      "image/png": "[encoded data removed]",
      "text/plain": [
       "<Figure size 640x480 with 2 Axes>"
      ]
     },
     "metadata": {},
     "output_type": "display_data"
    }
   ],
   "source": [
    "##\n",
    "## UPDATE THIS CODE\n",
    "##\n",
    "\n",
    "import matplotlib.pyplot as plt\n",
    "\n",
    "from sklearn import metrics\n",
    "from sklearn import svm\n",
    "clf = svm.SVC()\n",
    "clf.fit(X_train, y_train)\n",
    "predicted = clf.predict(X_test)\n",
    "\n",
    "print(\n",
    "    f\"Classification report for classifier {clf}:\\n\"\n",
    "    f\"{metrics.classification_report(y_test, predicted)}\\n\"\n",
    ")\n",
    "\n",
    "disp = metrics.ConfusionMatrixDisplay.from_predictions(y_test, predicted)\n",
    "print(f\"Confusion matrix:\\n{disp.confusion_matrix}\")\n",
    "disp.figure_.suptitle(\"SVM\")\n",
    "plt.show()"
   ]
  },
  {
   "cell_type": "markdown",
   "id": "1d8dbc3b-6ea6-47aa-9659-c34e0cd0be0e",
   "metadata": {},
   "source": [
    "## Decision Trees\n",
    "\n",
    "Spend a little time learning about decision tree classifiers.\n",
    "\n",
    "I've copied the KNN code from above to get you started...modify it to run a decision tree classifier, and inspect the results."
   ]
  },
  {
   "cell_type": "code",
   "execution_count": 50,
   "id": "83d78934-6dea-42c3-8bc9-0557174514ca",
   "metadata": {},
   "outputs": [
    {
     "name": "stdout",
     "output_type": "stream",
     "text": [
      "Classification report for classifier DecisionTreeClassifier():\n",
      "              precision    recall  f1-score   support\n",
      "\n",
      "           0       0.95      0.95      0.95        21\n",
      "           1       0.97      0.97      0.97        34\n",
      "           2       1.00      1.00      1.00        17\n",
      "\n",
      "    accuracy                           0.97        72\n",
      "   macro avg       0.97      0.97      0.97        72\n",
      "weighted avg       0.97      0.97      0.97        72\n",
      "\n",
      "\n",
      "Confusion matrix:\n",
      "[[20  1  0]\n",
      " [ 1 33  0]\n",
      " [ 0  0 17]]\n"
     ]
    },
    {
     "data": {
      "image/png": "[encoded data removed]",
      "text/plain": [
       "<Figure size 640x480 with 2 Axes>"
      ]
     },
     "metadata": {},
     "output_type": "display_data"
    }
   ],
   "source": [
    "##\n",
    "## UPDATE THIS CODE\n",
    "##\n",
    "\n",
    "import matplotlib.pyplot as plt\n",
    "\n",
    "from sklearn import metrics\n",
    "from sklearn import tree\n",
    "clf = tree.DecisionTreeClassifier()\n",
    "clf.fit(X_train, y_train)\n",
    "predicted = clf.predict(X_test)\n",
    "\n",
    "print(\n",
    "    f\"Classification report for classifier {clf}:\\n\"\n",
    "    f\"{metrics.classification_report(y_test, predicted)}\\n\"\n",
    ")\n",
    "\n",
    "disp = metrics.ConfusionMatrixDisplay.from_predictions(y_test, predicted)\n",
    "print(f\"Confusion matrix:\\n{disp.confusion_matrix}\")\n",
    "disp.figure_.suptitle(\"Tree\")\n",
    "plt.show()"
   ]
  },
  {
   "cell_type": "markdown",
   "id": "d5651d64-4d50-41e8-a3d9-439060c6b631",
   "metadata": {},
   "source": [
    "## Random Forest Classifiers\n",
    "\n",
    "Spend a little time learning about random forest classifiers.\n",
    "\n",
    "I've copied the KNN code from above to get you started...modify it to run a random forest classifier, and inspect the results."
   ]
  },
  {
   "cell_type": "code",
   "execution_count": 53,
   "id": "5b5aac0e-f48d-499d-94fa-e16ccddb57af",
   "metadata": {},
   "outputs": [
    {
     "name": "stdout",
     "output_type": "stream",
     "text": [
      "Classification report for classifier RandomForestClassifier():\n",
      "              precision    recall  f1-score   support\n",
      "\n",
      "           0       1.00      1.00      1.00        21\n",
      "           1       1.00      1.00      1.00        34\n",
      "           2       1.00      1.00      1.00        17\n",
      "\n",
      "    accuracy                           1.00        72\n",
      "   macro avg       1.00      1.00      1.00        72\n",
      "weighted avg       1.00      1.00      1.00        72\n",
      "\n",
      "\n",
      "Confusion matrix:\n",
      "[[21  0  0]\n",
      " [ 0 34  0]\n",
      " [ 0  0 17]]\n"
     ]
    },
    {
     "data": {
      "image/png": "[encoded data removed]",
      "text/plain": [
       "<Figure size 640x480 with 2 Axes>"
      ]
     },
     "metadata": {},
     "output_type": "display_data"
    }
   ],
   "source": [
    "##\n",
    "## UPDATE THIS CODE\n",
    "##\n",
    "\n",
    "import matplotlib.pyplot as plt\n",
    "\n",
    "from sklearn import metrics\n",
    "from sklearn.ensemble import RandomForestClassifier\n",
    "clf = RandomForestClassifier(n_estimators = 100) \n",
    "clf.fit(X_train, y_train)\n",
    "predicted = clf.predict(X_test)\n",
    "\n",
    "print(\n",
    "    f\"Classification report for classifier {clf}:\\n\"\n",
    "    f\"{metrics.classification_report(y_test, predicted)}\\n\"\n",
    ")\n",
    "\n",
    "disp = metrics.ConfusionMatrixDisplay.from_predictions(y_test, predicted)\n",
    "print(f\"Confusion matrix:\\n{disp.confusion_matrix}\")\n",
    "disp.figure_.suptitle(\"Random forest\")\n",
    "plt.show()"
   ]
  },
  {
   "cell_type": "code",
   "execution_count": null,
   "id": "1c9956ac-d0d1-4acc-bf5c-462db7414457",
   "metadata": {},
   "outputs": [],
   "source": []
  },
  {
   "cell_type": "markdown",
   "id": "5d805cc8-4fb9-411a-9524-df7e6b0d32df",
   "metadata": {},
   "source": [
    "## Questions"
   ]
  },
  {
   "cell_type": "markdown",
   "id": "9609c75e-2b79-43a4-9dd6-6a4754e6e9e7",
   "metadata": {},
   "source": [
    "Compare and contrast the performance of the classifiers. Which do you think is best, and which worst? Are there any patterns? Anything else interesting to report?"
   ]
  },
  {
   "cell_type": "markdown",
   "id": "345f2fc3-494b-4424-ad72-ccb1c6de8a9b",
   "metadata": {},
   "source": [
    "YOUR ANSWER HERE\n",
    "Random forest seems to have the highest recall and precision while the SVM method has the lowest recall and precision. Changing the depth of the random forest will change how high the recall and precision are. I think this is because the depth is the amount of trees the model is running through."
   ]
  },
  {
   "cell_type": "markdown",
   "id": "ecba98bb-57c9-472d-aee1-2f4f366ea3a3",
   "metadata": {},
   "source": [
    "Was there a pattern to the changes you needed to make?  What does that say about the design of the `scikit-learn` estimators and APIs?"
   ]
  },
  {
   "cell_type": "markdown",
   "id": "82a93cb4-6948-44f4-9d47-bf350fdb1752",
   "metadata": {},
   "source": [
    "YOUR ANSWER HERE\n",
    "All the changes required 2 lines and a name change. sklearn makes implementing different estimators really easy and fast."
   ]
  },
  {
   "cell_type": "markdown",
   "id": "e6cd7da8-2be2-457a-9818-1f375e4ee90d",
   "metadata": {},
   "source": [
    "## Follow-up\n",
    "\n",
    "Go back to the train/test split step, and change the `random_state` value.  Rerun the classifiers and inspect the results.  Do this several times for several `random_state` values.  What do you observe?"
   ]
  },
  {
   "cell_type": "markdown",
   "id": "2ae1adaf-fdc6-4649-8148-7448b4dcd710",
   "metadata": {},
   "source": []
  },
  {
   "cell_type": "raw",
   "id": "3e9551a6-b1d2-41fc-a55f-c865f26e2857",
   "metadata": {},
   "source": [
    "YOUR ANSWER HERE\n",
    "random_state is a seed to shuffle the data. Shuffling the data will allow more of the dataset be seen during training which can improve precision and recall"
   ]
  },
  {
   "cell_type": "markdown",
   "id": "46fc4200-c2e9-441e-8035-6d269248e578",
   "metadata": {},
   "source": [
    "What does this imply about the training process?"
   ]
  },
  {
   "cell_type": "markdown",
   "id": "4d118e92-bfd2-425e-bb8e-9594a5f61d7a",
   "metadata": {},
   "source": [
    "YOUR ANSWER HERE\n",
    "Increasing randomness allows the model to train more effectively without being able to memorize the dataset. If the random state is too high the model might get shown the wrong answers when training."
   ]
  },
  {
   "cell_type": "markdown",
   "id": "618ff28d-ae7c-443e-b815-b64b7e87237f",
   "metadata": {},
   "source": [
    "What is `random_state` doing?"
   ]
  },
  {
   "cell_type": "markdown",
   "id": "21879477-2391-4a80-b53a-69ba7f301b89",
   "metadata": {},
   "source": [
    "YOUR ANSWER HERE\n",
    "random state is shuffling the training dataset"
   ]
  },
  {
   "cell_type": "markdown",
   "id": "fec3996a-349f-44e2-93eb-c2cf1fb7d882",
   "metadata": {},
   "source": [
    "What should you do to ensure your ML results are reproducible?"
   ]
  },
  {
   "cell_type": "markdown",
   "id": "83a477ff-3fe9-4c92-8389-edcae37f0c7e",
   "metadata": {},
   "source": [
    "YOUR ANSWER HERE\n",
    "When running the random forest multiple times with 100 depth the output changed from a couple different options; however changing some variables I was able to reproduce the same results multiple times. Experimenting with the different parameters is super important to find a stable response from the model to be able to reproduce it in the future. "
   ]
  },
  {
   "cell_type": "markdown",
   "id": "2f000ffe-0ead-45d1-b656-0ea0286122e1",
   "metadata": {},
   "source": [
    "**MAKE SURE YOU SAVE, COMMIT, AND PUSH YOUR NOTEBOOKS TO YOUR REPO!!**"
   ]
  },
  {
   "cell_type": "code",
   "execution_count": null,
   "id": "c4d5efee-eed0-49af-81a3-40a01ca725c0",
   "metadata": {},
   "outputs": [],
   "source": []
  }
 ],
 "metadata": {
  "kernelspec": {
   "display_name": "Python 3 (ipykernel)",
   "language": "python",
   "name": "python3"
  },
  "language_info": {
   "codemirror_mode": {
    "name": "ipython",
    "version": 3
   },
   "file_extension": ".py",
   "mimetype": "text/x-python",
   "name": "python",
   "nbconvert_exporter": "python",
   "pygments_lexer": "ipython3",
   "version": "3.10.13"
  }
 },
 "nbformat": 4,
 "nbformat_minor": 5
}
