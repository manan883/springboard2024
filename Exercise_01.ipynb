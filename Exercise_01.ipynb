{
 "cells": [
  {
   "cell_type": "markdown",
   "id": "645df3b3-cc9c-4cd4-9bb6-dabc888a2958",
   "metadata": {},
   "source": [
    "# Exercise 01: Sampling and Aliasing\n",
    "\n",
    "This exercise will guide you\n",
    "through the process of sampling a continuous-time waveform\n",
    "and the phenomenon of aliasing.\n",
    "\n",
    "**This exercise is a doosey**,\n",
    "so find a quiet place\n",
    "and bev-up before you begin.\n",
    "\n",
    "And remember: everything here *is* within your grasp!  Don't panic!"
   ]
  },
  {
   "cell_type": "markdown",
   "id": "74504a11-61d0-41e0-bb98-b271b3616224",
   "metadata": {},
   "source": [
    "Let's install some packages:"
   ]
  },
  {
   "cell_type": "code",
   "execution_count": null,
   "id": "cb3992c6-b89c-4559-9b6e-4262f7c7f725",
   "metadata": {
    "scrolled": true
   },
   "outputs": [],
   "source": [
    "import sys\n",
    "!{sys.executable} -m pip install -U pip\n",
    "!{sys.executable} -m pip install -U scikit-learn numpy matplotlib ipywidgets ipympl"
   ]
  },
  {
   "cell_type": "markdown",
   "id": "ad2ad779-e3a7-41de-b1b2-a35e1b9fd7bf",
   "metadata": {},
   "source": [
    "and import some stuff:"
   ]
  },
  {
   "cell_type": "code",
   "execution_count": null,
   "id": "181d7b3c-ef0b-4d78-962e-e70c42e42d46",
   "metadata": {},
   "outputs": [],
   "source": [
    "%matplotlib widget\n",
    "\n",
    "import ipywidgets as widgets\n",
    "import numpy as np\n",
    "import scipy as sp\n",
    "import sklearn\n",
    "import matplotlib.pyplot as plt"
   ]
  },
  {
   "cell_type": "markdown",
   "id": "c43ecb3c-4726-4dcb-bb7d-079e7efb81bc",
   "metadata": {},
   "source": [
    "The following code creates a plot widget below.  Feel free to dig into it if you want."
   ]
  },
  {
   "cell_type": "code",
   "execution_count": null,
   "id": "9233d851-441e-4153-905e-df387d23290d",
   "metadata": {
    "scrolled": true
   },
   "outputs": [],
   "source": [
    "def create_plot():\n",
    "    \n",
    "    def generate_data (tone_freq_in__Hz, sample_rate__Hz):\n",
    "        res = sklearn.utils.Bunch()\n",
    "        \n",
    "        res.tone_freq_in__Hz = tone_freq_in__Hz\n",
    "        res.sample_rate__Hz  = sample_rate__Hz\n",
    "        \n",
    "        tone_freq_out__Hz = res.tone_freq_in__Hz\n",
    "        while tone_freq_out__Hz <= -sample_rate__Hz/2:\n",
    "            tone_freq_out__Hz += sample_rate__Hz\n",
    "        while tone_freq_out__Hz > +sample_rate__Hz/2:\n",
    "            tone_freq_out__Hz -= sample_rate__Hz\n",
    "\n",
    "        res.tone_freq_out__Hz = tone_freq_out__Hz\n",
    "        \n",
    "        res.sample_period__sec = 1.0/res.sample_rate__Hz;\n",
    "    \n",
    "        res.t_lo__sec =  0.0;\n",
    "        res.t_hi__sec =  1.0;\n",
    "        \n",
    "        res.ts_tone__sec = np.linspace(res.t_lo__sec, res.t_hi__sec, 1000)\n",
    "        res.ts_samp__sec = np.arange(res.t_lo__sec, res.t_hi__sec, res.sample_period__sec); \n",
    "\n",
    "        res.ys_sin_in   = np.sin(2*np.pi * res.tone_freq_in__Hz  * res.ts_tone__sec)\n",
    "        res.ys_sin_samp = np.sin(2*np.pi * res.tone_freq_in__Hz  * res.ts_samp__sec)\n",
    "        res.ys_sin_out  = np.sin(2*np.pi * res.tone_freq_out__Hz * res.ts_tone__sec)\n",
    "    \n",
    "        res.ys_cos_in   = np.cos(2*np.pi * res.tone_freq_in__Hz  * res.ts_tone__sec)\n",
    "        res.ys_cos_samp = np.cos(2*np.pi * res.tone_freq_in__Hz  * res.ts_samp__sec)\n",
    "        res.ys_cos_out  = np.cos(2*np.pi * res.tone_freq_out__Hz * res.ts_tone__sec)\n",
    "    \n",
    "        res.N_fft        = res.ts_samp__sec.size\n",
    "        res.bin_size__Hz = res.sample_rate__Hz/res.N_fft;\n",
    "        \n",
    "        res.fs_fft = np.linspace(-res.sample_rate__Hz/2, +res.sample_rate__Hz/2-res.bin_size__Hz, res.N_fft) \n",
    "    \n",
    "        res.ys_sin_fft = sp.fft.fftshift(np.abs(np.fft.fft(res.ys_sin_samp, res.N_fft))/res.N_fft)\n",
    "        res.ys_cos_fft = sp.fft.fftshift(np.abs(np.fft.fft(res.ys_cos_samp, res.N_fft))/res.N_fft)\n",
    "\n",
    "        return res\n",
    "\n",
    "    slider_tone_freq__Hz   = widgets.FloatSlider(min=-50.0, max= +50.0, step=0.1, value= 10.0, description=\"tone freq [Hz]\",   continuous_update=True)\n",
    "    slider_sample_rate__Hz = widgets.FloatSlider(min=  4.0, max=+100.0, step=0.1, value= 50.0, description=\"sample rate [Hz]\", continuous_update=True)\n",
    "\n",
    "    rb_waveform = widgets.RadioButtons(\n",
    "        options=['sin', 'cos'],\n",
    "        value='cos',\n",
    "        description='plotted waveform',\n",
    "        disabled=False\n",
    "    )\n",
    "\n",
    "    fig = plt.figure(figsize=(12,5))\n",
    "    fig.canvas.toolbar_visible = False\n",
    "    fig.canvas.resizable       = False\n",
    "    \n",
    "    ax_t = fig.add_subplot(1, 2, 1)\n",
    "    ax_f = fig.add_subplot(1, 2, 2)\n",
    "\n",
    "    def update_lines(dummy):\n",
    "        res = generate_data(slider_tone_freq__Hz.value, slider_sample_rate__Hz.value)\n",
    "        \n",
    "        ax_t.clear()\n",
    "        ax_f.clear()\n",
    "\n",
    "        ax_t.set_ylim(res.t_lo__sec, res.t_hi__sec)\n",
    "        ax_t.set_ylim(-1.25, +1.75)\n",
    "        plt.sca(ax_t)\n",
    "        plt.xlabel(r'time [sec]')\n",
    "        plt.grid(visible=True, which='major', axis='y')\n",
    "\n",
    "        sin_is_visible = rb_waveform.index == 0\n",
    "        \n",
    "        sin_in_line,   = ax_t.plot(res.ts_tone__sec, res.ys_sin_in,   color='r', linewidth=5.0, visible=sin_is_visible)\n",
    "        sin_samp_line, = ax_t.plot(res.ts_samp__sec, res.ys_sin_samp, color='b', linewidth=0.0, visible=sin_is_visible, marker='o')\n",
    "        sin_out_line,  = ax_t.plot(res.ts_tone__sec, res.ys_sin_out,  color='k', linewidth=3.0, visible=sin_is_visible)\n",
    "    \n",
    "        cos_in_line,   = ax_t.plot(res.ts_tone__sec, res.ys_cos_in,   color='r', linewidth=5.0, visible=not sin_is_visible)\n",
    "        cos_samp_line, = ax_t.plot(res.ts_samp__sec, res.ys_cos_samp, color='b', linewidth=0.0, visible=not sin_is_visible, marker='o')\n",
    "        cos_out_line,  = ax_t.plot(res.ts_tone__sec, res.ys_cos_out,  color='k', linewidth=3.0, visible=not sin_is_visible)\n",
    "\n",
    "        if sin_is_visible:\n",
    "            ax_t.legend([sin_in_line, sin_out_line, sin_samp_line], ['sin in', 'sin out', 'samples'])\n",
    "        else:\n",
    "            ax_t.legend([cos_in_line, cos_out_line, cos_samp_line], ['cos in', 'cos out', 'samples'])\n",
    "    \n",
    "        line_sin_fft, = ax_f.plot(res.fs_fft, res.ys_sin_fft,  color='b', linewidth=1.0, visible=sin_is_visible)\n",
    "        line_cos_fft, = ax_f.plot(res.fs_fft, res.ys_cos_fft,  color='b', linewidth=1.0, visible=not sin_is_visible)\n",
    "\n",
    "        ax_f.set_xlim(res.fs_fft[0], res.fs_fft[-1])\n",
    "        ax_f.set_ylim(0, +1.25)\n",
    "        plt.sca(ax_f)\n",
    "        plt.xlabel(r'freq [Hz]')\n",
    "        plt.grid(visible=True, which='major', axis='y')\n",
    "\n",
    "        if sin_is_visible:\n",
    "            ax_f.legend([line_sin_fft], ['|mag|'])\n",
    "        else:\n",
    "            ax_f.legend([line_cos_fft], ['|mag|'])\n",
    "\n",
    "        fig.canvas.draw_idle()\n",
    "\n",
    "    update_lines('dummy')\n",
    "        \n",
    "    slider_tone_freq__Hz.observe(update_lines, names='value')\n",
    "    slider_sample_rate__Hz.observe(update_lines, names='value')\n",
    "    rb_waveform.observe(update_lines, names='value')\n",
    "    \n",
    "    display(\n",
    "        widgets.HBox([\n",
    "            rb_waveform,\n",
    "            widgets.VBox(\n",
    "                [slider_tone_freq__Hz, slider_sample_rate__Hz]\n",
    "            )\n",
    "        ])\n",
    "    )\n",
    "    \n",
    "create_plot()"
   ]
  },
  {
   "cell_type": "markdown",
   "id": "4a1bb0c6-9f6a-4c4f-9955-eab16e92264b",
   "metadata": {},
   "source": [
    "Note the figure number above the plots.  If it starts getting large, you _might_ want to run this command\n",
    "to close all open plots and free up memory:"
   ]
  },
  {
   "cell_type": "code",
   "execution_count": null,
   "id": "d960b11d-4943-4c5c-9f49-cfb4feae6169",
   "metadata": {},
   "outputs": [],
   "source": [
    "plt.close('all')"
   ]
  },
  {
   "cell_type": "markdown",
   "id": "fd0e4214-ecd0-4842-86a3-4d956d4f5acf",
   "metadata": {},
   "source": [
    "Let's get familiar with the plots.\n",
    "\n",
    "The left plot shows time-domain data.\n",
    "The input waveform (red) will be either a **sine** or a **cosine** at the **tone freq**,\n",
    "and will be sampled (blue) at the **sample rate**.\n",
    "The output waveform after sampling will be in black.\n",
    "\n",
    "The right plot shows frequency-domain data.\n",
    "\n",
    "Remember that you can type values into the sliders if you want.\n",
    "(Make sure you **press return** and NOT shift-return when doing so!)"
   ]
  },
  {
   "cell_type": "markdown",
   "id": "b6c74122-ec1c-4e3f-b0c4-b0a106365ca8",
   "metadata": {},
   "source": [
    "Make sure you are looking at the default settings.\n",
    "\n",
    "**What is the duration of the displayed time waveform?**"
   ]
  },
  {
   "cell_type": "markdown",
   "id": "6f8e9aca-2822-4a44-9c82-ccd716bd52ba",
   "metadata": {},
   "source": [
    "YOUR ANSWER HERE"
   ]
  },
  {
   "cell_type": "markdown",
   "id": "e71d9a07-5e86-4e90-94f2-1673ba3afe76",
   "metadata": {},
   "source": [
    "**What is the period of the displayed time waveform?**"
   ]
  },
  {
   "cell_type": "markdown",
   "id": "7f7bd168-73a7-4074-b760-8facbd854e4d",
   "metadata": {},
   "source": [
    "YOUR ANSWER HERE"
   ]
  },
  {
   "cell_type": "markdown",
   "id": "ec9a5827-8e72-4691-a4f1-5170d2967314",
   "metadata": {},
   "source": [
    "**Compute the frequency (in Hz) of the displayed time waveform from its period (show your work).  Is it what you expected?**"
   ]
  },
  {
   "cell_type": "markdown",
   "id": "a33e21a2-f4ae-42b4-858c-440671c6c644",
   "metadata": {},
   "source": [
    "YOUR ANSWER HERE"
   ]
  },
  {
   "cell_type": "markdown",
   "id": "26933d4a-dbf5-417c-b5eb-2a7f6b6d4322",
   "metadata": {},
   "source": [
    "**Compute the frequency (in rad/sec) of the displayed time waveform from its frequency in Hz (show your work).**"
   ]
  },
  {
   "cell_type": "markdown",
   "id": "83c060c4-66a9-4213-99b9-01c86c2ef04b",
   "metadata": {},
   "source": [
    "YOUR ANSWER HERE"
   ]
  },
  {
   "cell_type": "markdown",
   "id": "784c8284-a49a-490d-99af-4875dd5a8d45",
   "metadata": {},
   "source": [
    "**How do you know this waveform is a cosine and not a sine?**"
   ]
  },
  {
   "cell_type": "markdown",
   "id": "9815e924-52b6-4f13-90d3-11bb33624833",
   "metadata": {},
   "source": [
    "YOUR ANSWER HERE"
   ]
  },
  {
   "cell_type": "markdown",
   "id": "eacfee91-2cc0-42e8-96e2-6a0a1a8eca2f",
   "metadata": {},
   "source": [
    "**MAKE SURE YOU CAN ANSWER THE ABOVE QUESTIONS BEFORE CONTINUING!**\n",
    "\n",
    "Toggle to the sine waveform.\n",
    "\n",
    "**Repeat the verification steps above for the sine waveform.**  You don't need to turn them in.\n",
    "\n",
    "Now let's look at the frequency-domain data.\n",
    "\n",
    "**What are the frequencies of the two spikes?**"
   ]
  },
  {
   "cell_type": "markdown",
   "id": "4584b7ca-07a7-4655-8c51-1008d8e177a0",
   "metadata": {},
   "source": [
    "YOUR ANSWER HERE"
   ]
  },
  {
   "cell_type": "markdown",
   "id": "4d3f73e1-fc12-4964-bf9e-c7b7e6b6f301",
   "metadata": {},
   "source": [
    "**Why are there two spikes even though there is only one sinusoid plotted?**"
   ]
  },
  {
   "cell_type": "markdown",
   "id": "23f69bbe-ea18-4e5b-9b91-3851b580dfcb",
   "metadata": {},
   "source": [
    "YOUR ANSWER HERE"
   ]
  },
  {
   "cell_type": "markdown",
   "id": "acff2a77-46a1-477d-ad9e-af654fe4e5c8",
   "metadata": {},
   "source": [
    "**Are the spikes the same for the sine and cosine waveforms?  Why or why not?**"
   ]
  },
  {
   "cell_type": "markdown",
   "id": "6bb55374-b26f-4d0b-b683-849dde8f82b8",
   "metadata": {},
   "source": [
    "YOUR ANSWER HERE"
   ]
  },
  {
   "cell_type": "markdown",
   "id": "148c8ecf-2484-42ce-aebf-aefa9356f91c",
   "metadata": {},
   "source": [
    "Move the **tone freq** slider around between (approx) -10Hz and (approx) +10Hz until you get a feel for what you're seeing.\n",
    "\n",
    "Select the **cosine** waveform and manually enter +10.0Hz for the **tone freq**.  Note what you see.\n",
    "\n",
    "Now enter -10Hz for the **tone freq**.\n",
    "\n",
    "**What happened on the plots?  Why?**"
   ]
  },
  {
   "cell_type": "markdown",
   "id": "d0885dde-65bb-4f21-99e4-edcd9acc81f1",
   "metadata": {},
   "source": [
    "YOUR ANSWER HERE"
   ]
  },
  {
   "cell_type": "markdown",
   "id": "e26b7bbc-c558-4f07-bff9-18c4fee668e4",
   "metadata": {},
   "source": [
    "Now select the **sine** waveform and manually enter +10.0Hz for the **tone freq**. Note what you see.\n",
    "\n",
    "Now enter -10Hz for the tone freq.\n",
    "\n",
    "**What happened on the plots? Why?**"
   ]
  },
  {
   "cell_type": "markdown",
   "id": "ce00ce54-4913-451d-a6c1-1654dbce2799",
   "metadata": {},
   "source": [
    "YOUR ANSWER HERE"
   ]
  },
  {
   "cell_type": "markdown",
   "id": "c2039825-b4e3-4be8-a7f4-a0438757d71f",
   "metadata": {},
   "source": [
    "Now let's start playing with the sample rate.\n",
    "\n",
    "Move the **sample rate** slider between (approx) 50Hz and (approx) 100Hz until you get a feel for what you're seeing.\n",
    "\n",
    "**What, if anything, changes on the left plot?  What, if anything, stays the same?  Why is this the case?**"
   ]
  },
  {
   "cell_type": "markdown",
   "id": "c779a77a-e4c8-4a67-8b73-e3e28d31f652",
   "metadata": {},
   "source": [
    "YOUR ANSWER HERE"
   ]
  },
  {
   "cell_type": "markdown",
   "id": "4b5c4d63-d7d6-481d-83cd-6e1459a8fdbc",
   "metadata": {},
   "source": [
    "**What, if anything, changes on the right plot?  What, if anything, stays the same?  Why is this the case?**"
   ]
  },
  {
   "cell_type": "markdown",
   "id": "3498bc11-a284-4cce-9f14-a3f5c4ec9a1d",
   "metadata": {},
   "source": [
    "YOUR ANSWER HERE"
   ]
  },
  {
   "cell_type": "markdown",
   "id": "2d0d4723-88ef-4a79-923f-ee3676fce06b",
   "metadata": {},
   "source": [
    "Choose the **cosine** waveform.  Enter +5.0Hz for the **tone freq** and 20.0Hz for the **sample rate**.  Note what you see.\n",
    "\n",
    "Now enter +25.0Hz, +45.0Hz, and -15.0Hz into the **tone freq** and note what happens.\n",
    "\n",
    "**What, if anything, changed on the left plot?  What, if anything, stayed the same?  Why?**"
   ]
  },
  {
   "cell_type": "markdown",
   "id": "70e3b60d-8448-4ff6-9c1e-13fba7849919",
   "metadata": {},
   "source": [
    "YOUR ANSWER HERE"
   ]
  },
  {
   "cell_type": "markdown",
   "id": "2838e555-0f67-4116-bc74-1e91a32f5fa1",
   "metadata": {},
   "source": [
    "**What, if anything, changed on the right plot?  What, if anything, stayed the same?  Why?**"
   ]
  },
  {
   "cell_type": "markdown",
   "id": "fdd2133b-495b-40e0-89ba-7311ee19ec61",
   "metadata": {},
   "source": [
    "YOUR ANSWER HERE"
   ]
  },
  {
   "cell_type": "markdown",
   "id": "7979dbcd-d7bd-4ac6-b327-b09c42e53d49",
   "metadata": {},
   "source": [
    "Repeat the last two questions for the **sine** waveform.\n",
    "\n",
    "**What, if anything, was different about the sine vs the cosine?**"
   ]
  },
  {
   "cell_type": "markdown",
   "id": "3a1d3d28-8a42-4232-8f99-ccff83c063c4",
   "metadata": {},
   "source": [
    "YOUR ANSWER HERE"
   ]
  },
  {
   "cell_type": "markdown",
   "id": "00db4e40-e4d3-4252-aa80-b273f6c75ec6",
   "metadata": {},
   "source": [
    "These equations should look familiar:\n",
    "\\begin{align}\n",
    "    \\cos(2\\pi f_o t) &= \\frac{e^{j 2\\pi f_o t} + e^{-j 2\\pi f_o t}}{2} \\\\\n",
    "    \\sin(2\\pi f_o t) &= \\frac{e^{j 2\\pi f_o t} - e^{-j 2\\pi f_o t}}{2j}\n",
    "\\end{align}\n",
    "\n",
    "**Explain how these equations relate to the exercises above.**"
   ]
  },
  {
   "cell_type": "markdown",
   "id": "f1bda9c6-752d-4a1a-ae30-d05d7b6da167",
   "metadata": {},
   "source": [
    "YOUR ANSWER HERE"
   ]
  },
  {
   "cell_type": "markdown",
   "id": "807d8ff1-5c83-4cbd-82f5-69614e12ce58",
   "metadata": {},
   "source": [
    "The above equations are continuous-time because $t$ can take on any value in the range $[-\\infty,+\\infty]$.\n",
    "\n",
    "Let's look at what happens when we sample the signal periodically at some sample rate, $f_s$, which corresponds to a sample period $T_s = 1/f_s$.\n",
    "\n",
    "**If $f_s$ is in Hz, what are the units of $T_s$?  Does this make sense?**"
   ]
  },
  {
   "cell_type": "markdown",
   "id": "4a9598e7-f2f3-4392-bd9a-8d1821b3e27d",
   "metadata": {},
   "source": [
    "YOUR ANSWER HERE"
   ]
  },
  {
   "cell_type": "markdown",
   "id": "5b578dfa-eed3-4737-9ea7-b9e273d1c183",
   "metadata": {},
   "source": [
    "Convince yourself that if we start sampling at $t = 0$ then the $n^{th}$ sample will occur at $t_n = n T_s$.\n",
    "\n",
    "Let's focus on sampling a complex exponential with some arbitrary frequency $f_o$:\n",
    "\\begin{align}\n",
    "    x(t) = e^{j 2\\pi f_o t}\n",
    "\\end{align}\n",
    "The $n^{th}$ sample will be:\n",
    "\\begin{align}\n",
    "    x[n] &= x(t_n) \\\\\n",
    "        &= x(n T_s) \\\\\n",
    "        &= e^{j 2\\pi f_o n T_s}\n",
    "\\end{align}\n",
    "where I'm using square brackets to indicate \"discrete time\" (i.e., sample number instead of seconds).\n",
    "\n",
    "**MAKE SURE YOU CAN FOLLOW THE ABOVE EQUATIONS BEFORE CONTINUING!**\n",
    "\n",
    "What happens if we increase the exponential's frequency by the sample rate, $f_s$?  Let find out!\n",
    "\\begin{align}\n",
    "    e^{j 2\\pi (f_o + f_s) n T_s} &= e^{j 2\\pi f_o n T_s} \\cdot e^{j 2\\pi f_s n T_s} \\\\\n",
    "        &= e^{j 2\\pi f_o n T_s} \\cdot e^{j 2\\pi n} \\\\\n",
    "        &= e^{j 2\\pi f_o n T_s} \\cdot 1 \\\\\n",
    "        &= e^{j 2\\pi f_o n T_s} \\\\\n",
    "        &= x[n]\n",
    "\\end{align}\n",
    "Holy smokes - we get the same sample out!  **This is the source of aliasing!**\n",
    "\n",
    "**Justify the first line of the above proof.**"
   ]
  },
  {
   "cell_type": "markdown",
   "id": "9c53ced7-01f1-463c-816f-6b3172445a41",
   "metadata": {},
   "source": [
    "YOUR ANSWER HERE"
   ]
  },
  {
   "cell_type": "markdown",
   "id": "a7f4d0d3-1609-479b-bfdf-b6dcc0da84ba",
   "metadata": {},
   "source": [
    "**Justify the second line of the above proof.**"
   ]
  },
  {
   "cell_type": "markdown",
   "id": "3420bdbc-2523-48f1-b3a1-be113adce305",
   "metadata": {},
   "source": [
    "YOUR ANSWER HERE"
   ]
  },
  {
   "cell_type": "markdown",
   "id": "8dd44d0d-4fa0-486f-8956-2da15513868e",
   "metadata": {},
   "source": [
    "**Justify the third line of the above proof.**"
   ]
  },
  {
   "cell_type": "markdown",
   "id": "b9441ac4-b9b2-4fb9-b195-c72fc538876f",
   "metadata": {},
   "source": [
    "YOUR ANSWER HERE"
   ]
  },
  {
   "cell_type": "markdown",
   "id": "42a56229-0b21-4705-87d5-86d2ec1baec7",
   "metadata": {},
   "source": [
    "**Justify the fourth line of the above proof.**"
   ]
  },
  {
   "cell_type": "markdown",
   "id": "43ab16d8-6a91-4385-a2a7-01f2ea89c11b",
   "metadata": {},
   "source": [
    "YOUR ANSWER HERE"
   ]
  },
  {
   "cell_type": "markdown",
   "id": "a16ffa41-3ff8-4016-9566-1392123b001e",
   "metadata": {},
   "source": [
    "The last line of the proof follows from the definition of $x[n]$ above.\n",
    "\n",
    "**Because sines and cosines are built from complex exponentials, what does the above proof imply about sampling them?**"
   ]
  },
  {
   "cell_type": "markdown",
   "id": "89165d49-1d99-4093-a046-c6371ca6ccfd",
   "metadata": {},
   "source": [
    "YOUR ANSWER HERE"
   ]
  },
  {
   "cell_type": "markdown",
   "id": "98205e7b-e9bb-460e-9ce3-7ab6ed6cea42",
   "metadata": {},
   "source": [
    "**What would happen if we changed the exponential's frequency by an integer multiple of the sample rate ($f_o + k f_s$, for integer $k$)?**"
   ]
  },
  {
   "cell_type": "markdown",
   "id": "6935e031-4045-40f2-aa6d-86fac42dec28",
   "metadata": {},
   "source": [
    "YOUR ANSWER HERE"
   ]
  },
  {
   "cell_type": "markdown",
   "id": "66f1e717-411b-4430-8721-eab4f99dbc96",
   "metadata": {},
   "source": [
    "**Does the above proof explain what you saw in any of the steps above?  Which ones?  How?**"
   ]
  },
  {
   "cell_type": "markdown",
   "id": "bdcc99d5-6aa5-4939-b738-337c4248be22",
   "metadata": {},
   "source": [
    "YOUR ANSWER HERE"
   ]
  },
  {
   "cell_type": "markdown",
   "id": "48407a30-1514-4dda-9a15-cd33789a1d54",
   "metadata": {},
   "source": [
    "Play around with the plot widget settings.\n",
    "\n",
    "**Under what circumstance(s) does aliasing occur?  Why?**"
   ]
  },
  {
   "cell_type": "markdown",
   "id": "c70c642f-315d-43ce-8756-5dc963544d82",
   "metadata": {},
   "source": [
    "YOUR ANSWER HERE"
   ]
  },
  {
   "cell_type": "markdown",
   "id": "1f0a854f-9ab6-4e37-a832-c8eff2c7d28a",
   "metadata": {},
   "source": [
    "If you made it this far, **congratulations** - I really am impressed!\n",
    "You're well on your way to understanding many digital signal processing (DSP) concepts..."
   ]
  },
  {
   "cell_type": "code",
   "execution_count": null,
   "id": "24e6ff42-dd3a-4f99-8026-56fe7331ae6d",
   "metadata": {},
   "outputs": [],
   "source": []
  }
 ],
 "metadata": {
  "kernelspec": {
   "display_name": "Python 3 (ipykernel)",
   "language": "python",
   "name": "python3"
  },
  "language_info": {
   "codemirror_mode": {
    "name": "ipython",
    "version": 3
   },
   "file_extension": ".py",
   "mimetype": "text/x-python",
   "name": "python",
   "nbconvert_exporter": "python",
   "pygments_lexer": "ipython3",
   "version": "3.10.13"
  }
 },
 "nbformat": 4,
 "nbformat_minor": 5
}
