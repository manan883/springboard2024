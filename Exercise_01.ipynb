{
 "cells": [
  {
   "cell_type": "markdown",
   "id": "cb502490-6a0e-4940-b99e-53729b620ee0",
   "metadata": {},
   "source": [
    "# Exercise 01: Sines and Cosines\n",
    "\n",
    "In this exercise, you will explore the features of sine and cosine waveforms.\n",
    "\n",
    "As usual, install the necessary packages:"
   ]
  },
  {
   "cell_type": "code",
   "execution_count": null,
   "id": "45d53a1a-48e1-4dbe-9c1d-ef501b03961a",
   "metadata": {
    "scrolled": true
   },
   "outputs": [],
   "source": [
    "import sys\n",
    "!{sys.executable} -m pip install -U pip\n",
    "!{sys.executable} -m pip install -U numpy matplotlib ipywidgets ipympl"
   ]
  },
  {
   "cell_type": "markdown",
   "id": "a90f405a-8121-4a70-ae7d-934f5a5e9732",
   "metadata": {},
   "source": [
    "and import the necessary modules:"
   ]
  },
  {
   "cell_type": "code",
   "execution_count": null,
   "id": "b3644147-1d6f-43d3-928a-9e3cfb6f7081",
   "metadata": {},
   "outputs": [],
   "source": [
    "%matplotlib widget\n",
    "\n",
    "import ipywidgets as widgets\n",
    "import numpy as np\n",
    "import matplotlib.pyplot as plt"
   ]
  },
  {
   "cell_type": "markdown",
   "id": "6f11fdf2-6117-4cc7-ad21-ae28b62b33dd",
   "metadata": {},
   "source": [
    "The following code creates an interactive plot:"
   ]
  },
  {
   "cell_type": "code",
   "execution_count": null,
   "id": "e66b2eab-652f-4e58-a6f2-fc4c10ecba9e",
   "metadata": {},
   "outputs": [],
   "source": [
    "def create_sin_cos_plot():\n",
    "    thetas = np.linspace(-10.0,+10.0,1000)\n",
    "\n",
    "    slider_sin_amp   = widgets.FloatSlider(min=-3.0,   max=+3.0,   step=0.05,     value=1.0, description=\"sin amp\",   continuous_update=True)\n",
    "    slider_sin_freq  = widgets.FloatSlider(min=-5.0,   max=+5.0,   step=0.05,     value=1.0, description=\"sin freq\",  continuous_update=True)\n",
    "    slider_sin_phase = widgets.FloatSlider(min=-np.pi, max=+np.pi, step=np.pi/20, value=0.0, description=\"sin phase\", continuous_update=True)\n",
    "\n",
    "    slider_cos_amp   = widgets.FloatSlider(min=-3.0,   max=+3.0,   step=0.05,     value=1.0, description=\"cos amp\",   continuous_update=True)\n",
    "    slider_cos_freq  = widgets.FloatSlider(min=-5.0,   max=+5.0,   step=0.05,     value=1.0, description=\"cos freq\",  continuous_update=True)\n",
    "    slider_cos_phase = widgets.FloatSlider(min=-np.pi, max=+np.pi, step=np.pi/20, value=0.0, description=\"cos phase\", continuous_update=True)\n",
    "\n",
    "    button_reset = widgets.Button(description='reset plot')\n",
    "    \n",
    "    fig = plt.figure()\n",
    "    fig.canvas.toolbar_visible = False\n",
    "    fig.canvas.resizable       = False\n",
    "    \n",
    "    ax  = fig.add_subplot(1, 1, 1)\n",
    "    ax.set_ylim(-3.0, +3.0)\n",
    "    plt.xlabel(r'$\\theta \\; [rad]$')\n",
    "    plt.grid(visible=True, which='major', axis='y')\n",
    "    \n",
    "    sin_amp, sin_freq, sin_phase = slider_sin_amp.value, slider_sin_freq.value, slider_sin_phase.value\n",
    "    cos_amp, cos_freq, cos_phase = slider_cos_amp.value, slider_cos_freq.value, slider_cos_phase.value\n",
    "    plt.title(r'${:+.2f} \\cdot \\sin({:+.2f} \\cdot \\theta {:+.2f})$'.format(sin_amp, sin_freq, sin_phase) + \"\\n\" + r'${:+.2f} \\cdot \\cos({:+.2f} \\cdot \\theta {:+.2f})$'.format(cos_amp, cos_freq, cos_phase))\n",
    "\n",
    "    def f_sin():\n",
    "        amp   = slider_sin_amp.value\n",
    "        freq  = slider_sin_freq.value\n",
    "        phase = slider_sin_phase.value\n",
    "        return amp*np.sin(freq*thetas + phase)\n",
    "\n",
    "    def f_cos():\n",
    "        amp   = slider_cos_amp.value\n",
    "        freq  = slider_cos_freq.value\n",
    "        phase = slider_cos_phase.value\n",
    "        return amp*np.cos(freq*thetas + phase)\n",
    "    \n",
    "    sin_line, = ax.plot(thetas, f_sin())\n",
    "    cos_line, = ax.plot(thetas, f_cos())\n",
    "    ax.legend([sin_line, cos_line], ['sin', 'cos'])\n",
    "    \n",
    "    def update_lines(change):\n",
    "        sin_line.set_ydata(f_sin())\n",
    "        cos_line.set_ydata(f_cos())\n",
    "        sin_amp, sin_freq, sin_phase = slider_sin_amp.value, slider_sin_freq.value, slider_sin_phase.value\n",
    "        cos_amp, cos_freq, cos_phase = slider_cos_amp.value, slider_cos_freq.value, slider_cos_phase.value\n",
    "        plt.title(r'${:+.2f} \\cdot \\sin({:+.2f} \\cdot \\theta {:+.2f})$'.format(sin_amp, sin_freq, sin_phase) + \"\\n\" + r'${:+.2f} \\cdot \\cos({:+.2f} \\cdot \\theta {:+.2f})$'.format(cos_amp, cos_freq, cos_phase))\n",
    "        fig.canvas.draw_idle()\n",
    "\n",
    "    def reset_plot(dummy):\n",
    "        slider_sin_amp.value   = 1.0\n",
    "        slider_sin_freq.value  = 1.0\n",
    "        slider_sin_phase.value = 0.0\n",
    "        slider_cos_amp.value   = 1.0\n",
    "        slider_cos_freq.value  = 1.0\n",
    "        slider_cos_phase.value = 0.0\n",
    "        update_lines('dummy')\n",
    "            \n",
    "    slider_sin_amp.observe(update_lines, names='value')\n",
    "    slider_sin_freq.observe(update_lines, names='value')\n",
    "    slider_sin_phase.observe(update_lines, names='value')\n",
    "    \n",
    "    slider_cos_amp.observe(update_lines, names='value')\n",
    "    slider_cos_freq.observe(update_lines, names='value')\n",
    "    slider_cos_phase.observe(update_lines, names='value')\n",
    "\n",
    "    button_reset.on_click(reset_plot)\n",
    "    \n",
    "    display(\n",
    "        widgets.HBox([\n",
    "            widgets.VBox([\n",
    "                slider_sin_amp, slider_sin_freq, slider_sin_phase\n",
    "            ]),\n",
    "            widgets.VBox([\n",
    "                slider_cos_amp, slider_cos_freq, slider_cos_phase\n",
    "            ]),\n",
    "            button_reset\n",
    "        ])\n",
    "    )\n",
    "    \n",
    "create_sin_cos_plot()"
   ]
  },
  {
   "cell_type": "markdown",
   "id": "d1ed2cf9-d7d2-4f4a-9588-b2d9f5d0113c",
   "metadata": {},
   "source": [
    "If you create a lot of plots,\n",
    "you might want to run the following code\n",
    "from time to time\n",
    "in order to avoid leaking lots of memory.\n",
    "It will disable any plots\n",
    "in this notebook,\n",
    "so you'll need to re-create them."
   ]
  },
  {
   "cell_type": "code",
   "execution_count": null,
   "id": "153e3442-7fca-439f-bdf8-e8ab71653f06",
   "metadata": {},
   "outputs": [],
   "source": [
    "plt.close('all')"
   ]
  },
  {
   "cell_type": "markdown",
   "id": "e03de971-c5c4-40cc-bdf7-6f142d41e66f",
   "metadata": {},
   "source": [
    "Focus on the $A \\sin(k \\theta + \\phi)$ waveform for now.\n",
    "Adjust the amplitude, frequency, and phase sliders\n",
    "until you are comfortable with their effects."
   ]
  },
  {
   "cell_type": "markdown",
   "id": "8e0a7278-16dd-446f-bc46-c693da0b1486",
   "metadata": {},
   "source": [
    "**What does changing the amplitude do?**"
   ]
  },
  {
   "cell_type": "markdown",
   "id": "21d78680-7824-4bff-b860-7e595125fd5d",
   "metadata": {},
   "source": [
    "YOUR ANSWER HERE"
   ]
  },
  {
   "cell_type": "markdown",
   "id": "7cd73325-73ad-484d-b029-b675ffa3b419",
   "metadata": {},
   "source": [
    "**What does changing the frequency do?**"
   ]
  },
  {
   "cell_type": "markdown",
   "id": "948fe4c1-1be4-43ad-bad9-36e37d17215f",
   "metadata": {},
   "source": [
    "YOUR ANSWER HERE"
   ]
  },
  {
   "cell_type": "markdown",
   "id": "c0cb9c3f-12a9-4435-a1df-f0983f1dcf97",
   "metadata": {},
   "source": [
    "**What does changing the phase do?**"
   ]
  },
  {
   "cell_type": "markdown",
   "id": "2261a4d6-4cc9-4aeb-b2f1-41bbc9be957f",
   "metadata": {},
   "source": [
    "YOUR ANSWER HERE"
   ]
  },
  {
   "cell_type": "markdown",
   "id": "5cfbf276-a5ca-4c59-b53b-377de97b3f39",
   "metadata": {},
   "source": [
    "Adjust the amplitude and/or frequency and/or phase of the sine waveform until it matches the cosine waveform.\n",
    "\n",
    "**What are your final settings?  Explain them both conceptually and algebraically.**"
   ]
  },
  {
   "cell_type": "markdown",
   "id": "bb4557d6-cdd0-486b-ac9a-67b1915b0de9",
   "metadata": {},
   "source": [
    "YOUR ANSWER HERE"
   ]
  },
  {
   "cell_type": "markdown",
   "id": "7a9e8ec7-7d1b-4409-ba27-ffd92e6a6bf3",
   "metadata": {},
   "source": [
    "Continuing from where the sine and cosine waveforms overlap,\n",
    "negate the amplitude of the cosine waveform.\n",
    "\n",
    "**What effect does negating the amplitude have?**"
   ]
  },
  {
   "cell_type": "markdown",
   "id": "5817a024-eaeb-449f-8883-873cd6051eda",
   "metadata": {},
   "source": [
    "YOUR ANSWER HERE"
   ]
  },
  {
   "cell_type": "markdown",
   "id": "add56c10-7b8b-45ca-974a-e730d432fd01",
   "metadata": {},
   "source": [
    "Continuing from the previous question,\n",
    "adjust the phase of the cosine\n",
    "until it matches the sine waveform.\n",
    "\n",
    "**What does this result say about the relationship between amplitude inversions and phase shifts?  Explain your answer both conceptually and algebraically.**"
   ]
  },
  {
   "cell_type": "markdown",
   "id": "de2dccf2-e932-41a4-9d94-6b91d813a18d",
   "metadata": {},
   "source": [
    "YOUR ANSWER HERE"
   ]
  },
  {
   "cell_type": "code",
   "execution_count": null,
   "id": "e152fe06-dd5f-487a-8e7c-2b9a2f45f907",
   "metadata": {},
   "outputs": [],
   "source": []
  }
 ],
 "metadata": {
  "kernelspec": {
   "display_name": "Python 3 (ipykernel)",
   "language": "python",
   "name": "python3"
  },
  "language_info": {
   "codemirror_mode": {
    "name": "ipython",
    "version": 3
   },
   "file_extension": ".py",
   "mimetype": "text/x-python",
   "name": "python",
   "nbconvert_exporter": "python",
   "pygments_lexer": "ipython3",
   "version": "3.10.13"
  }
 },
 "nbformat": 4,
 "nbformat_minor": 5
}
