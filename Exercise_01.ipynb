{
 "cells": [
  {
   "cell_type": "markdown",
   "id": "82fcc05b-c384-453c-a47c-a2e4197e0e14",
   "metadata": {},
   "source": [
    "# Exercise 01: Linear Separability And Higher Dimensions\n",
    "\n",
    "In this exercise, you will explore\n",
    "how low-dimension linearly inseparable data\n",
    "can be transformed into a higher-dimensional space\n",
    "where it becomes linearly separable."
   ]
  },
  {
   "cell_type": "markdown",
   "id": "de2344cb-a1ae-45b8-8419-5ddfd83bfc10",
   "metadata": {},
   "source": [
    "First, install the necessary packages:"
   ]
  },
  {
   "cell_type": "code",
   "execution_count": 1,
   "id": "236adb14-d2ab-4ecd-b0c1-a5a49d7e067e",
   "metadata": {},
   "outputs": [
    {
     "name": "stdout",
     "output_type": "stream",
     "text": [
      "Requirement already satisfied: pip in /home/manan/.pyenv/versions/3.10.13/envs/week3/lib/python3.10/site-packages (24.0)\n",
      "Requirement already satisfied: scikit-learn in /home/manan/.pyenv/versions/3.10.13/envs/week3/lib/python3.10/site-packages (1.4.0)\n",
      "Requirement already satisfied: matplotlib in /home/manan/.pyenv/versions/3.10.13/envs/week3/lib/python3.10/site-packages (3.8.2)\n",
      "Requirement already satisfied: numpy<2.0,>=1.19.5 in /home/manan/.pyenv/versions/3.10.13/envs/week3/lib/python3.10/site-packages (from scikit-learn) (1.26.4)\n",
      "Requirement already satisfied: scipy>=1.6.0 in /home/manan/.pyenv/versions/3.10.13/envs/week3/lib/python3.10/site-packages (from scikit-learn) (1.12.0)\n",
      "Requirement already satisfied: joblib>=1.2.0 in /home/manan/.pyenv/versions/3.10.13/envs/week3/lib/python3.10/site-packages (from scikit-learn) (1.3.2)\n",
      "Requirement already satisfied: threadpoolctl>=2.0.0 in /home/manan/.pyenv/versions/3.10.13/envs/week3/lib/python3.10/site-packages (from scikit-learn) (3.2.0)\n",
      "Requirement already satisfied: contourpy>=1.0.1 in /home/manan/.pyenv/versions/3.10.13/envs/week3/lib/python3.10/site-packages (from matplotlib) (1.2.0)\n",
      "Requirement already satisfied: cycler>=0.10 in /home/manan/.pyenv/versions/3.10.13/envs/week3/lib/python3.10/site-packages (from matplotlib) (0.12.1)\n",
      "Requirement already satisfied: fonttools>=4.22.0 in /home/manan/.pyenv/versions/3.10.13/envs/week3/lib/python3.10/site-packages (from matplotlib) (4.48.1)\n",
      "Requirement already satisfied: kiwisolver>=1.3.1 in /home/manan/.pyenv/versions/3.10.13/envs/week3/lib/python3.10/site-packages (from matplotlib) (1.4.5)\n",
      "Requirement already satisfied: packaging>=20.0 in /home/manan/.pyenv/versions/3.10.13/envs/week3/lib/python3.10/site-packages (from matplotlib) (23.2)\n",
      "Requirement already satisfied: pillow>=8 in /home/manan/.pyenv/versions/3.10.13/envs/week3/lib/python3.10/site-packages (from matplotlib) (10.2.0)\n",
      "Requirement already satisfied: pyparsing>=2.3.1 in /home/manan/.pyenv/versions/3.10.13/envs/week3/lib/python3.10/site-packages (from matplotlib) (3.1.1)\n",
      "Requirement already satisfied: python-dateutil>=2.7 in /home/manan/.pyenv/versions/3.10.13/envs/week3/lib/python3.10/site-packages (from matplotlib) (2.8.2)\n",
      "Requirement already satisfied: six>=1.5 in /home/manan/.pyenv/versions/3.10.13/envs/week3/lib/python3.10/site-packages (from python-dateutil>=2.7->matplotlib) (1.16.0)\n"
     ]
    }
   ],
   "source": [
    "import sys\n",
    "!{sys.executable} -m pip install -U pip\n",
    "!{sys.executable} -m pip install -U scikit-learn matplotlib"
   ]
  },
  {
   "cell_type": "markdown",
   "id": "aaf78c61-099c-43aa-b3e7-da136adde860",
   "metadata": {},
   "source": [
    "Import the necessary modules, etc.:"
   ]
  },
  {
   "cell_type": "code",
   "execution_count": 2,
   "id": "7747b739-37d4-440c-8f12-3485dcbb18c0",
   "metadata": {},
   "outputs": [],
   "source": [
    "import numpy as np\n",
    "import matplotlib.pyplot as plt\n",
    "from sklearn import svm\n",
    "from sklearn import preprocessing\n",
    "from sklearn.inspection import DecisionBoundaryDisplay\n",
    "from sklearn.preprocessing import StandardScaler"
   ]
  },
  {
   "cell_type": "markdown",
   "id": "ec6228c2-e829-492c-a6db-70d6abc21c23",
   "metadata": {},
   "source": [
    "The following code defines some one-dimensional data\n",
    "and the correct classification for each data point."
   ]
  },
  {
   "cell_type": "code",
   "execution_count": 3,
   "id": "e1c945da-c890-404a-bccd-9e67a2f4dcc6",
   "metadata": {},
   "outputs": [
    {
     "data": {
      "image/png": "[encoded data removed]",
      "text/plain": [
       "<Figure size 640x480 with 1 Axes>"
      ]
     },
     "metadata": {},
     "output_type": "display_data"
    }
   ],
   "source": [
    "data = np.array([\n",
    "     1, 2, 3, 4, 5, 6, 7, 8, 9,10,\n",
    "    11,12,13,14,15,16,17,18,19,20,\n",
    "    21,22,23,24,25,26,27,28,29,30\n",
    "])\n",
    "target = np.array([\n",
    "     0, 0, 1, 0, 1, 1, 0, 0, 1, 1,\n",
    "     0, 1, 0, 0, 0, 0, 0, 1, 0, 1,\n",
    "     1, 0, 0, 1, 1, 0, 1, 0, 0, 0\n",
    "])\n",
    "\n",
    "ax = plt.gca()\n",
    "plt.scatter(data, np.zeros_like(data), c=target, cmap=plt.cm.Paired, edgecolors='k');\n",
    "\n"
   ]
  },
  {
   "cell_type": "markdown",
   "id": "894e58af-db25-4fd2-abd1-3dd650165d5c",
   "metadata": {},
   "source": [
    "**Is this data linearly separable?**"
   ]
  },
  {
   "cell_type": "markdown",
   "id": "2ff1293e-432b-4708-806c-d48cbedcd2ce",
   "metadata": {},
   "source": [
    "YOUR ANSWER HERE.\n",
    "Yes this data is linearly separable because you can add a dimension and use the Z axis to seperate the 2 sets of data."
   ]
  },
  {
   "cell_type": "markdown",
   "id": "ec77041f-ab7d-4e80-985c-98a62df19862",
   "metadata": {},
   "source": [
    "The following code converts `data` into an Nx2 array (`new_data`)\n",
    "with the values from `data` in the first column\n",
    "and zeros in the second column:"
   ]
  },
  {
   "cell_type": "code",
   "execution_count": 4,
   "id": "e87cc6f6-d93e-44fa-91b1-fad5c20bd7d3",
   "metadata": {},
   "outputs": [],
   "source": [
    "new_data = np.copy(data).reshape(data.size,1)\n",
    "new_data = np.concatenate( (new_data, np.zeros_like(new_data)), axis=1 )"
   ]
  },
  {
   "cell_type": "markdown",
   "id": "d1b929d8-f6f2-47ef-8a59-3dc1d64578ff",
   "metadata": {},
   "source": [
    "Now that we have two-dimensional data,\n",
    "we have an extra *degree of freedom* (the y-coordinate)\n",
    "that we can use to make our data linearly separable."
   ]
  },
  {
   "cell_type": "markdown",
   "id": "fcfc73f3-ea3a-4ddd-858c-394cfb22e5ed",
   "metadata": {},
   "source": [
    "The following function will be used\n",
    "to calculate a new y-coordinate\n",
    "from the given x-coordinate.\n",
    "It will be used automatically\n",
    "in the code that follows.\n",
    "\n",
    "Study the original data,\n",
    "and figure out a transformation\n",
    "that will make the new data linearly separable.\n",
    "(*Hint: The data has a pattern very similar to one you've seen before...*)\n",
    "\n",
    "**Fill in the missing implementation with your transformation.**"
   ]
  },
  {
   "cell_type": "code",
   "execution_count": 47,
   "id": "8fe7d41f-471f-4d26-a243-f552db4f2c89",
   "metadata": {},
   "outputs": [],
   "source": [
    "def y_coord_for_x_coord(x_coord):\n",
    "    # this function takes a scalar and returns a scalar\n",
    "    return x_coord.reshape(-1, 1)"
   ]
  },
  {
   "cell_type": "markdown",
   "id": "e4b261de-8e52-4fd4-9ffd-c7d475a12a59",
   "metadata": {},
   "source": [
    "Now we'll apply your transformation to `new_data`:"
   ]
  },
  {
   "cell_type": "code",
   "execution_count": 48,
   "id": "edd7e346-83b7-4bf7-9127-0be7e3ea70d3",
   "metadata": {},
   "outputs": [
    {
     "name": "stderr",
     "output_type": "stream",
     "text": [
      "/tmp/ipykernel_29565/1965044256.py:2: DeprecationWarning: Conversion of an array with ndim > 0 to a scalar is deprecated, and will error in future. Ensure you extract a single element from your array before performing this operation. (Deprecated NumPy 1.25.)\n",
      "  new_data[r_idx,1] = y_coord_for_x_coord(new_data[r_idx,0])\n"
     ]
    }
   ],
   "source": [
    "for r_idx in range(new_data.shape[0]):\n",
    "    new_data[r_idx,1] = y_coord_for_x_coord(new_data[r_idx,0])"
   ]
  },
  {
   "cell_type": "markdown",
   "id": "2218bdf8-e1ce-4fa9-b4e9-a1d6ca4512af",
   "metadata": {},
   "source": [
    "and see how well it works:"
   ]
  },
  {
   "cell_type": "code",
   "execution_count": 49,
   "id": "f3146a6f-fec5-4842-a841-753434cee929",
   "metadata": {},
   "outputs": [
    {
     "data": {
      "image/png": "[encoded data removed]",
      "text/plain": [
       "<Figure size 640x480 with 1 Axes>"
      ]
     },
     "metadata": {},
     "output_type": "display_data"
    }
   ],
   "source": [
    "scaler = preprocessing.StandardScaler().fit(new_data)\n",
    "new_data_scaled = scaler.transform(new_data)\n",
    "\n",
    "clf = svm.SVC(kernel='linear')\n",
    "clf.fit(new_data_scaled, target);\n",
    "\n",
    "ax = plt.gca()\n",
    "DecisionBoundaryDisplay.from_estimator(\n",
    "    clf,\n",
    "    new_data_scaled,\n",
    "    cmap=plt.cm.Paired,\n",
    "    ax=ax,\n",
    "    response_method=\"predict\",\n",
    "    plot_method=\"pcolormesh\",\n",
    "    shading=\"auto\"\n",
    ")\n",
    "plt.scatter(new_data_scaled[:,0], new_data_scaled[:,1], c=target, cmap=plt.cm.Paired, edgecolors='k')\n",
    "plt.axis('tight')\n",
    "plt.show()"
   ]
  },
  {
   "cell_type": "code",
   "execution_count": null,
   "id": "04718d8f-f660-40f5-9bf3-f2f7add6f98b",
   "metadata": {},
   "outputs": [],
   "source": []
  }
 ],
 "metadata": {
  "kernelspec": {
   "display_name": "Python 3 (ipykernel)",
   "language": "python",
   "name": "python3"
  },
  "language_info": {
   "codemirror_mode": {
    "name": "ipython",
    "version": 3
   },
   "file_extension": ".py",
   "mimetype": "text/x-python",
   "name": "python",
   "nbconvert_exporter": "python",
   "pygments_lexer": "ipython3",
   "version": "3.10.13"
  }
 },
 "nbformat": 4,
 "nbformat_minor": 5
}
