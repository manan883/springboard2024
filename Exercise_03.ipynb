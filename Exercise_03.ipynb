{
 "cells": [
  {
   "cell_type": "markdown",
   "id": "818c2c89-170f-473d-b258-06bf1b387f2c",
   "metadata": {},
   "source": [
    "# Exercise 03: Arbitrary Waveforms\n",
    "\n",
    "In this exercise, you will try to constrcut an arbitrary waveform from sines/cosines.\n",
    "\n",
    "Install the necessary packages:"
   ]
  },
  {
   "cell_type": "code",
   "execution_count": null,
   "id": "fef45708-f259-4991-b91c-176baff72be3",
   "metadata": {
    "scrolled": true
   },
   "outputs": [],
   "source": [
    "import sys\n",
    "!{sys.executable} -m pip install -U pip\n",
    "!{sys.executable} -m pip install -U numpy matplotlib ipywidgets ipympl"
   ]
  },
  {
   "cell_type": "markdown",
   "id": "2f78be1f-a197-4902-8fd4-1f3dc1dfd77b",
   "metadata": {},
   "source": [
    "and import the needed libraries:"
   ]
  },
  {
   "cell_type": "code",
   "execution_count": null,
   "id": "d6d30e83-32a0-42fb-bbbc-1bc248b8037a",
   "metadata": {},
   "outputs": [],
   "source": [
    "%matplotlib widget\n",
    "\n",
    "import ipywidgets as widgets\n",
    "import numpy as np\n",
    "import matplotlib.pyplot as plt"
   ]
  },
  {
   "cell_type": "markdown",
   "id": "5b7779d2-3427-4260-a960-8fd0ec499eb6",
   "metadata": {},
   "source": [
    "The following code creates an interactive plot:"
   ]
  },
  {
   "cell_type": "code",
   "execution_count": null,
   "id": "481c5a7c-deea-462c-9b5b-72d19b2a8793",
   "metadata": {},
   "outputs": [],
   "source": [
    "def create_plot():\n",
    "    xs = np.linspace(-10.0,+10.0,1000)\n",
    "\n",
    "    ys_target = 4*(np.mod(np.ceil((xs-0.2)/4),2) - 0.5)\n",
    "    ys_sum    = np.zeros_like(ys_target)\n",
    "    \n",
    "    fig = plt.figure()\n",
    "    fig.canvas.toolbar_visible = False\n",
    "    fig.canvas.resizable       = False\n",
    "    \n",
    "    ax  = fig.add_subplot(1, 1, 1)\n",
    "    ax.set_ylim(-2.5, +2.5)\n",
    "    plt.xlabel(r'x')\n",
    "    plt.grid(visible=True, which='major', axis='y')\n",
    "    \n",
    "    target_line, = ax.plot(xs, ys_target, color='k', linewidth=5.0)\n",
    "    sum_line,    = ax.plot(xs, ys_sum,    color='r', linewidth=5.0)\n",
    "\n",
    "    ax.legend([target_line, sum_line], ['target', 'sum'])\n",
    "    \n",
    "    slider_groups = []\n",
    "\n",
    "    def get_ys(s_a, s_f, s_p):\n",
    "        return s_a.value * np.sin(s_f.value*xs + s_p.value)\n",
    "        \n",
    "    def update_lines(change):\n",
    "        ys_sum = np.zeros_like(xs)\n",
    "        for info in slider_groups:            \n",
    "            s_a, s_f, s_p, line = info[0], info[1], info[2], info[3]\n",
    "            ys = get_ys(s_a, s_f, s_p)\n",
    "            line.set_ydata(ys)\n",
    "            ys_sum += ys\n",
    "        sum_line.set_ydata(ys_sum)\n",
    "        fig.canvas.draw_idle()\n",
    "\n",
    "    def reset_plot(dummy):\n",
    "        for info in slider_groups:            \n",
    "            s_a, s_f, s_p = info[0], info[1], info[2]\n",
    "            s_a.value = 0.0\n",
    "            s_f.value = 1.0\n",
    "            s_p.value = 0.0\n",
    "            \n",
    "        update_lines('dummy')  \n",
    "        \n",
    "    for freq in range(10):\n",
    "        slider_amp   = widgets.FloatSlider(min=0.0,   max=+3.0,   step=0.01,     value=0.0, description=\"amp\",   continuous_update=True)\n",
    "        slider_freq  = widgets.FloatSlider(min=0.0,   max=+10.0,   step=0.01,     value=1.0, description=\"freq\",  continuous_update=True)\n",
    "        slider_phase = widgets.FloatSlider(min=-np.pi, max=+np.pi, step=np.pi/20, value=0.0, description=\"phase\", continuous_update=True)\n",
    "\n",
    "        line, = ax.plot(xs, get_ys(slider_amp, slider_freq, slider_phase))\n",
    "        \n",
    "        slider_amp.observe(update_lines, names='value')\n",
    "        slider_freq.observe(update_lines, names='value')\n",
    "        slider_phase.observe(update_lines, names='value')\n",
    "        slider_groups.append( (slider_amp, slider_freq, slider_phase, line) )\n",
    "        \n",
    "    button_reset = widgets.Button(description='reset plot')\n",
    "    button_reset.on_click(reset_plot)\n",
    "    \n",
    "    display(\n",
    "        widgets.VBox(\n",
    "            [widgets.HBox([a, f, p]) for a,f,p,l in slider_groups] + [button_reset]\n",
    "        )\n",
    "    )\n",
    "    \n",
    "create_plot()"
   ]
  },
  {
   "cell_type": "markdown",
   "id": "10158aa0-bec3-4e5b-b62f-0be7b69ef67d",
   "metadata": {},
   "source": [
    "As before, you might want to run this from time to time:"
   ]
  },
  {
   "cell_type": "code",
   "execution_count": null,
   "id": "72b4be4a-c424-4411-bcd4-aedc6aa5469c",
   "metadata": {},
   "outputs": [],
   "source": [
    "plt.close('all')"
   ]
  },
  {
   "cell_type": "markdown",
   "id": "d4f0b99d-cdee-4074-a326-313f442cae43",
   "metadata": {},
   "source": [
    "I have given you a target waveform (a square wave, in bold black)\n",
    "to construct, as best you can,\n",
    "by summing up to ten sinusoids.\n",
    "You can control the amplitudes, frequencies, and phases of the sinusoids.\n",
    "\n",
    "Initially, all sinusoids have zero amplitude, so the sum (in bold red) will be zero.\n",
    "\n",
    "As you adjust the sliders,\n",
    "each individual sinusoid will be plotted\n",
    "in some unique color,\n",
    "and the sum (in bold red)\n",
    "of all the sinusoids will be updated.\n",
    "\n",
    "Your goal is to get the red sum\n",
    "to match the black target\n",
    "as closely as possible.\n",
    "\n",
    "Note that it is possible to type values into the sliders\n",
    "if you're finding it difficult to get the value you want\n",
    "with your mouse.\n",
    "\n",
    "**How well do you think you did?  Would it help to have more frequencies?  Is there a systematic way to adjust the sinusoids?**"
   ]
  },
  {
   "cell_type": "markdown",
   "id": "cc0cd3e8-cf66-42be-bf39-7bafa3f7dd5b",
   "metadata": {},
   "source": [
    "YOUR ANSWER HERE"
   ]
  },
  {
   "cell_type": "markdown",
   "id": "c0df836a-bd02-4f63-8c5c-491a19a436b6",
   "metadata": {},
   "source": [
    "Make sure your final notebook shows your settings so that I can see your final waveform."
   ]
  },
  {
   "cell_type": "markdown",
   "id": "ce45a44d-93c8-4417-8506-8174734522ee",
   "metadata": {},
   "source": [
    "**What did you think of the interactive plots?**"
   ]
  },
  {
   "cell_type": "markdown",
   "id": "4ee8d2f2-ff1b-4113-9746-faa0c043b553",
   "metadata": {},
   "source": [
    "YOUR ANSWER HERE"
   ]
  },
  {
   "cell_type": "code",
   "execution_count": null,
   "id": "7da92063-84ca-436a-b4dd-6d7d1d4fc754",
   "metadata": {},
   "outputs": [],
   "source": []
  }
 ],
 "metadata": {
  "kernelspec": {
   "display_name": "Python 3 (ipykernel)",
   "language": "python",
   "name": "python3"
  },
  "language_info": {
   "codemirror_mode": {
    "name": "ipython",
    "version": 3
   },
   "file_extension": ".py",
   "mimetype": "text/x-python",
   "name": "python",
   "nbconvert_exporter": "python",
   "pygments_lexer": "ipython3",
   "version": "3.10.13"
  }
 },
 "nbformat": 4,
 "nbformat_minor": 5
}
