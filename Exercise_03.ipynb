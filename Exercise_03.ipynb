{
 "cells": [
  {
   "cell_type": "markdown",
   "id": "82bbfa33-a30c-4bac-aeac-0849182a0c91",
   "metadata": {},
   "source": [
    "# Exercise 03: SVM Classifier Kernels.\n",
    "\n",
    "In this exercise, you'll read through some tutorials\n",
    "and assess their results."
   ]
  },
  {
   "cell_type": "markdown",
   "id": "f3690412-c98b-44d0-9e05-d98eb9f147d5",
   "metadata": {},
   "source": [
    "## Kernel Tutorial\n",
    "\n",
    "Open and read\n",
    "[this tutorial](https://scikit-learn.org/stable/auto_examples/svm/plot_svm_kernels.html)\n",
    "to see the effects different kernels can have\n",
    "on Support Vector Machine classifiers.\n",
    "\n",
    "I've included the `plot_svm_kernels` jupyter notebook in the repo; feel free to open and run it yourself.\n",
    "\n",
    "Don't get too bogged down in the mathematical details; focus on the roles of linear separability, higher dimensions, and kernels."
   ]
  },
  {
   "cell_type": "markdown",
   "id": "71d22408-7079-427a-98ce-d7df68d61cb5",
   "metadata": {},
   "source": [
    "**For the given dataset, would you prefer the polynomial kernel or the RBF kernel?  Why?**"
   ]
  },
  {
   "cell_type": "markdown",
   "id": "6839b461-0e99-4d9f-bf75-436b7c51a3bf",
   "metadata": {},
   "source": [
    "YOUR ANSWER HERE."
   ]
  },
  {
   "cell_type": "markdown",
   "id": "4b6a0e27-1f8f-483b-8b2a-cb6be180bbf1",
   "metadata": {},
   "source": [
    "## Iris Dataset Tutorial\n",
    "\n",
    "Take a look at the plots near the top of [this tutorial](https://scikit-learn.org/stable/auto_examples/svm/plot_iris_svc.html#sphx-glr-auto-examples-svm-plot-iris-svc-py)."
   ]
  },
  {
   "cell_type": "markdown",
   "id": "975f0cb9-696c-4e91-958c-57685587ab84",
   "metadata": {},
   "source": [
    "**Which kernel would you choose for the iris dataset?  Why?**"
   ]
  },
  {
   "cell_type": "markdown",
   "id": "a8fbf230-da67-42d9-93ab-4c8eabc53ffe",
   "metadata": {},
   "source": [
    "YOUR ANSWER HERE."
   ]
  },
  {
   "cell_type": "markdown",
   "id": "9bae4c72-0148-4670-a155-ada9917933b4",
   "metadata": {},
   "source": [
    "The RBF kernel is what I would choose because it seems to be the best at isolating the 2 classes. It also seems like the kernel is able to isolate the same class multiple times to prevent including the wrong class."
   ]
  }
 ],
 "metadata": {
  "kernelspec": {
   "display_name": "Python 3 (ipykernel)",
   "language": "python",
   "name": "python3"
  },
  "language_info": {
   "codemirror_mode": {
    "name": "ipython",
    "version": 3
   },
   "file_extension": ".py",
   "mimetype": "text/x-python",
   "name": "python",
   "nbconvert_exporter": "python",
   "pygments_lexer": "ipython3",
   "version": "3.10.13"
  }
 },
 "nbformat": 4,
 "nbformat_minor": 5
}
